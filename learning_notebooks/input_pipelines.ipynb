{
 "nbformat": 4,
 "nbformat_minor": 2,
 "metadata": {
  "language_info": {
   "name": "python",
   "codemirror_mode": {
    "name": "ipython",
    "version": 3
   },
   "version": "3.7.6-final"
  },
  "orig_nbformat": 2,
  "file_extension": ".py",
  "mimetype": "text/x-python",
  "name": "python",
  "npconvert_exporter": "python",
  "pygments_lexer": "ipython3",
  "version": 3,
  "kernelspec": {
   "name": "python37664bittscondac7d38fc4db7646d299327b966619bb33",
   "display_name": "Python 3.7.6 64-bit ('ts': conda)"
  }
 },
 "cells": [
  {
   "cell_type": "markdown",
   "metadata": {},
   "source": [
    "# Tensorflow Input Pipeline Basics"
   ],
   "execution_count": null,
   "outputs": []
  },
  {
   "cell_type": "code",
   "execution_count": null,
   "metadata": {},
   "outputs": [],
   "source": [
    "from __future__ import absolute_import, division, print_function, unicode_literals\n",
    "\n",
    "import pathlib\n",
    "import matplotlib.pyplot as plt\n",
    "import pandas as pd\n",
    "import numpy as np\n",
    "\n",
    "# conda create -n tf tensorflow\n",
    "# conda activate tf\n",
    "import tensorflow as tf\n",
    "\n",
    "from termcolor import cprint\n",
    "\n",
    "np.set_printoptions(precision=4)\n",
    "\n",
    "cprint(\"Imported!\", 'green')"
   ]
  },
  {
   "cell_type": "markdown",
   "metadata": {},
   "source": [
    "## Basic Mechanics\n",
    "\n",
    "To create an input pipeline, we need a data source. For example, to construct a Dataset from data in memory, we can use `tf.data.Dataset.from_tensors()` or `tf.data.Dataset.from_tensor_slices()`. Alternatively, if our input data is stored in a file in the recommended TFRecord format, we can use `tf.data.TFRecordDataset()`."
   ],
   "execution_count": null,
   "outputs": []
  },
  {
   "cell_type": "code",
   "execution_count": null,
   "metadata": {},
   "outputs": [],
   "source": [
    "dataset = tf.data.Dataset.from_tensor_slices([8, 3, 0, 8, 2, 1])\n",
    "dataset"
   ]
  },
  {
   "cell_type": "markdown",
   "metadata": {},
   "source": [
    "The `dataset` object is a Python iterable object, so we can consume it in a for loop as seen below"
   ],
   "execution_count": null,
   "outputs": []
  },
  {
   "cell_type": "code",
   "execution_count": null,
   "metadata": {},
   "outputs": [],
   "source": [
    "for elem in dataset:\n",
    "    cprint(elem, 'cyan')\n",
    "\n",
    "it = iter(dataset)\n",
    "cprint(next(it).numpy(), 'blue')"
   ]
  },
  {
   "cell_type": "markdown",
   "metadata": {},
   "source": [
    "### Dataset Structure\n",
    "A dataset contains elements that each have the same (nested) structure and the individual components of the structure can be of any type representable by `tf.TypeSpec`, including `Tensor`, `SparseTensor`, `RaggedTensor`, `TensorArray`, or `Dataset`.\n",
    "\n",
    "The `Dataset.element_spec` property allows you to inspect the type of each element component. The property returns a nested structure of `tf.TypeSpec` objects, matching the structure of the element, which may be a single component, a tuple of components, or a nested tuple of components. For example:"
   ],
   "execution_count": null,
   "outputs": []
  },
  {
   "cell_type": "code",
   "execution_count": null,
   "metadata": {},
   "outputs": [],
   "source": [
    "dataset_1 = tf.data.Dataset.from_tensor_slices(tf.random.uniform([4, 10]))\n",
    "\n",
    "dataset_1.element_spec\n",
    ""
   ]
  },
  {
   "cell_type": "code",
   "execution_count": null,
   "metadata": {},
   "outputs": [],
   "source": [
    "dataset_2 = tf.data.Dataset.from_tensor_slices(\n",
    "    (tf.random.uniform([4]),\n",
    "    tf.random.uniform([4, 100], maxval=100, dtype=tf.int32)))\n",
    "\n",
    "dataset_2.element_spec"
   ]
  },
  {
   "cell_type": "code",
   "execution_count": null,
   "metadata": {},
   "outputs": [],
   "source": [
    "dataset_3 = tf.data.Dataset.zip((dataset_1, dataset_2))\n",
    "\n",
    "dataset_3.element_spec"
   ]
  },
  {
   "cell_type": "code",
   "execution_count": null,
   "metadata": {},
   "outputs": [],
   "source": [
    "# Dataset containing a sparse tensor.\n",
    "dataset_4 = tf.data.Dataset.from_tensors(tf.SparseTensor(indices=[[0, 0], [1, 2]], values=[1, 2], dense_shape=[3, 4]))\n",
    "\n",
    "dataset_4.element_spec\n",
    ""
   ]
  },
  {
   "cell_type": "code",
   "execution_count": null,
   "metadata": {},
   "outputs": [],
   "source": [
    "# Use value_type to see the type of value represented by the element spec\n",
    "dataset_4.element_spec.value_type"
   ]
  },
  {
   "cell_type": "markdown",
   "metadata": {},
   "source": [
    "The Dataset transformations support datasets of any structure. When using the `Dataset.map()`, and `Dataset.filter()` transformations, which apply a function to each element, the element structure determines the arguments of the function:"
   ],
   "execution_count": null,
   "outputs": []
  },
  {
   "cell_type": "code",
   "execution_count": null,
   "metadata": {},
   "outputs": [],
   "source": [
    "dataset_1 = tf.data.Dataset.from_tensor_slices(\n",
    "    tf.random.uniform([4, 10], minval=1, maxval=10, dtype=tf.int32))\n",
    "\n",
    "print(dataset_1)\n",
    "\n",
    "for data in dataset_1:\n",
    "    print(data.numpy())"
   ]
  },
  {
   "cell_type": "markdown",
   "metadata": {},
   "source": [
    "## Reading Input Data\n",
    "\n",
    "More information for specific situations can be found at the following links.\n",
    "\n",
    "#### [Consuming NumPy arrays](https://www.tensorflow.org/guide/data#consuming_numpy_arrays)\n",
    "\n",
    "#### [Consuming Python generators](https://www.tensorflow.org/guide/data#consuming_python_generators)\n",
    "\n",
    "#### [Consuming TFRecord data](https://www.tensorflow.org/guide/data#consuming_tfrecord_data)\n",
    "\n",
    "#### [Consuming text data](https://www.tensorflow.org/guide/data#consuming_text_data)\n",
    "\n",
    "#### [Consuming CSV data](https://www.tensorflow.org/guide/data#consuming_csv_data)\n",
    "\n",
    "#### [Consuming sets of files](https://www.tensorflow.org/guide/data#consuming_sets_of_files)"
   ],
   "execution_count": null,
   "outputs": []
  },
  {
   "cell_type": "markdown",
   "metadata": {},
   "source": [
    "## Batching dataset elements\n",
    "\n",
    "### Simple Batching\n",
    "\n",
    "### Batching Tensors with padding"
   ],
   "execution_count": null,
   "outputs": []
  },
  {
   "cell_type": "markdown",
   "metadata": {},
   "source": [
    "## Training workflows\n",
    "\n",
    "### Processing multiple epochs\n",
    "\n",
    "### Randomly shuffling input data"
   ],
   "execution_count": null,
   "outputs": []
  },
  {
   "cell_type": "markdown",
   "metadata": {},
   "source": [
    "## Preprocessing data\n",
    "\n",
    "### Decoding image data and resizing it\n",
    "\n",
    "### Applying arbitrary Python logic\n",
    "\n",
    "### Parsing tf.Example protocol buffer messages\n",
    "\n",
    "### Time series windowing\n",
    "\n",
    "### Resampling"
   ],
   "execution_count": null,
   "outputs": []
  },
  {
   "cell_type": "markdown",
   "metadata": {},
   "source": [
    "## Iterator Checkpointing"
   ]
  },
  {
   "cell_type": "markdown",
   "metadata": {},
   "source": [
    "## Using high-level APIs\n",
    "\n"
   ],
   "execution_count": null,
   "outputs": []
  }
 ]
}