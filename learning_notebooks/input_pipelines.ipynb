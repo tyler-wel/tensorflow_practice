{
 "nbformat": 4,
 "nbformat_minor": 2,
 "metadata": {
  "language_info": {
   "name": "python",
   "codemirror_mode": {
    "name": "ipython",
    "version": 3
   },
   "version": "3.7.6-final"
  },
  "orig_nbformat": 2,
  "file_extension": ".py",
  "mimetype": "text/x-python",
  "name": "python",
  "npconvert_exporter": "python",
  "pygments_lexer": "ipython3",
  "version": 3,
  "kernelspec": {
   "name": "python37664bitanaconda3conda14e6814ede614b7f9a506f7f9dfb709a",
   "display_name": "Python 3.7.6 64-bit ('anaconda3': conda)"
  }
 },
 "cells": [
  {
   "cell_type": "markdown",
   "metadata": {},
   "source": [
    "# Tensorflow Input Pipeline Basics"
   ]
  },
  {
   "cell_type": "code",
   "execution_count": 1,
   "metadata": {},
   "outputs": [
    {
     "output_type": "stream",
     "name": "stdout",
     "text": "\u001b[32mImported!\u001b[0m\n"
    }
   ],
   "source": [
    "from __future__ import absolute_import, division, print_function, unicode_literals\n",
    "\n",
    "import pathlib\n",
    "import matplotlib.pyplot as plt\n",
    "import pandas as pd\n",
    "import numpy as np\n",
    "\n",
    "# conda create -n tf tensorflow\n",
    "# conda activate tf\n",
    "import tensorflow as tf\n",
    "\n",
    "from termcolor import cprint\n",
    "\n",
    "np.set_printoptions(precision=4)\n",
    "\n",
    "cprint(\"Imported!\", 'green')"
   ]
  },
  {
   "cell_type": "markdown",
   "metadata": {},
   "source": [
    "## Basic Mechanics\n",
    "\n",
    "To create an input pipeline, we need a data source. For example, to construct a Dataset from data in memory, we can use `tf.data.Dataset.from_tensors()` or `tf.data.Dataset.from_tensor_slices()`. Alternatively, if our input data is stored in a file in the recommended TFRecord format, we can use `tf.data.TFRecordDataset()`."
   ]
  },
  {
   "cell_type": "code",
   "execution_count": 22,
   "metadata": {},
   "outputs": [
    {
     "output_type": "execute_result",
     "data": {
      "text/plain": "<TensorSliceDataset shapes: (), types: tf.int32>"
     },
     "metadata": {},
     "execution_count": 22
    }
   ],
   "source": [
    "dataset = tf.data.Dataset.from_tensor_slices([8, 3, 0, 8, 2, 1])\n",
    "dataset"
   ]
  },
  {
   "cell_type": "markdown",
   "metadata": {},
   "source": [
    "The `dataset` object is a Python iterable object, so we can consume it in a for loop as seen below"
   ]
  },
  {
   "cell_type": "code",
   "execution_count": 23,
   "metadata": {},
   "outputs": [
    {
     "output_type": "stream",
     "name": "stdout",
     "text": "\u001b[36mtf.Tensor(8, shape=(), dtype=int32)\u001b[0m\n\u001b[34m8\u001b[0m\n\u001b[36mtf.Tensor(3, shape=(), dtype=int32)\u001b[0m\n\u001b[34m3\u001b[0m\n\u001b[36mtf.Tensor(0, shape=(), dtype=int32)\u001b[0m\n\u001b[34m0\u001b[0m\n\u001b[36mtf.Tensor(8, shape=(), dtype=int32)\u001b[0m\n\u001b[34m8\u001b[0m\n\u001b[36mtf.Tensor(2, shape=(), dtype=int32)\u001b[0m\n\u001b[34m2\u001b[0m\n\u001b[36mtf.Tensor(1, shape=(), dtype=int32)\u001b[0m\n\u001b[34m1\u001b[0m\n"
    }
   ],
   "source": [
    "for elem in dataset:\n",
    "    cprint(elem, 'cyan')\n",
    "    cprint(elem.numpy(), 'blue')"
   ]
  },
  {
   "cell_type": "markdown",
   "metadata": {},
   "source": [
    "## Reading Input Data"
   ]
  },
  {
   "cell_type": "markdown",
   "metadata": {},
   "source": [
    "## Batching dataset elements"
   ]
  },
  {
   "cell_type": "markdown",
   "metadata": {},
   "source": [
    "## Training workflows"
   ]
  },
  {
   "cell_type": "markdown",
   "metadata": {},
   "source": [
    "## Preprocessing data"
   ]
  },
  {
   "cell_type": "markdown",
   "metadata": {},
   "source": [
    "## Using high-level APIs"
   ]
  }
 ]
}